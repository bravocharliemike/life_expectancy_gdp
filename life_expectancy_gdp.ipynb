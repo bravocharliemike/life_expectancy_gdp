{
 "cells": [
  {
   "cell_type": "markdown",
   "metadata": {},
   "source": [
    "# Introduction\n",
    "For this project, data on GDP and life expectancy from the World Health Organization and the World Bank will be analysed and visualised to try and identify the relationship between the GDP and life expectancy of six countries."
   ]
  },
  {
   "cell_type": "markdown",
   "metadata": {},
   "source": [
    "## Data\n",
    "The dataset has the following columns:\n",
    "\n",
    "- `Country` - nation\n",
    "- `Year` - the year for the observation\n",
    "- `Life expectancy at birth (years)` - life expectancy value in years\n",
    "- `GDP` - Gross Domestic Product in U.S. dollars"
   ]
  },
  {
   "cell_type": "markdown",
   "metadata": {},
   "source": [
    "### Brainstorming questions\n",
    "<br>\n",
    "\n",
    "**Univariate**\n",
    "<br>\n",
    "_Life Expectancy_\n",
    "* What's the average life expectancy in the whole dataset\n",
    "* How has avg life exp changed over time?\n",
    "* What's the distribution of the data?\n",
    "* Average life exp for each country\n",
    "* How different are the countries in terms of life exp\n",
    "* Which countries have the highest / lowest life exp?\n",
    "<br>\n",
    "\n",
    "_GDP_\n",
    "* How's the GDP data distributed?\n",
    "* How has GDP changed over time?\n",
    "* Which countries have largest / smallest GDP?\n",
    "* What's the average GDP for whole datase?\n",
    "\n",
    "**Multivariate**\n",
    "* Is there a correlation between GDP and life expectancy of a country?\n",
    "\n",
    "\n",
    "**Possible visualisations:**\n",
    "* KDE plots to check distribution of variables\n",
    "* Histograms to check distribution\n",
    "* Scatter plots to check trends\n",
    "* Box plots to confirm spread, IQR and presence of any outliers\n",
    "\n",
    "<div class=\"alert alert-block alert-info\">\n",
    "Categorical variables<br>\n",
    "\n",
    "* Country -> Nominal -> Bar chart\n",
    "* Year -> Ordinal -> Bar chart\n",
    "\n",
    "\n",
    "Numerical<br>\n",
    "\n",
    "* Life expectancy -> Continuous -> histogram or KDE\n",
    "* GDP -> Continuous -> Histogram or KDE\n",
    "</div>"
   ]
  },
  {
   "cell_type": "code",
   "execution_count": 34,
   "metadata": {},
   "outputs": [],
   "source": [
    "import pandas as pd\n",
    "import numpy as np\n",
    "import matplotlib.pyplot as plt\n",
    "import seaborn as sns\n",
    "%config InlineBackend.figure_format = 'retina'"
   ]
  },
  {
   "cell_type": "code",
   "execution_count": 2,
   "metadata": {},
   "outputs": [
    {
     "data": {
      "text/html": [
       "<div>\n",
       "<style scoped>\n",
       "    .dataframe tbody tr th:only-of-type {\n",
       "        vertical-align: middle;\n",
       "    }\n",
       "\n",
       "    .dataframe tbody tr th {\n",
       "        vertical-align: top;\n",
       "    }\n",
       "\n",
       "    .dataframe thead th {\n",
       "        text-align: right;\n",
       "    }\n",
       "</style>\n",
       "<table border=\"1\" class=\"dataframe\">\n",
       "  <thead>\n",
       "    <tr style=\"text-align: right;\">\n",
       "      <th></th>\n",
       "      <th>Country</th>\n",
       "      <th>Year</th>\n",
       "      <th>Life expectancy at birth (years)</th>\n",
       "      <th>GDP</th>\n",
       "    </tr>\n",
       "  </thead>\n",
       "  <tbody>\n",
       "    <tr>\n",
       "      <th>0</th>\n",
       "      <td>Chile</td>\n",
       "      <td>2000</td>\n",
       "      <td>77.3</td>\n",
       "      <td>7.786093e+10</td>\n",
       "    </tr>\n",
       "    <tr>\n",
       "      <th>1</th>\n",
       "      <td>Chile</td>\n",
       "      <td>2001</td>\n",
       "      <td>77.3</td>\n",
       "      <td>7.097992e+10</td>\n",
       "    </tr>\n",
       "    <tr>\n",
       "      <th>2</th>\n",
       "      <td>Chile</td>\n",
       "      <td>2002</td>\n",
       "      <td>77.8</td>\n",
       "      <td>6.973681e+10</td>\n",
       "    </tr>\n",
       "    <tr>\n",
       "      <th>3</th>\n",
       "      <td>Chile</td>\n",
       "      <td>2003</td>\n",
       "      <td>77.9</td>\n",
       "      <td>7.564346e+10</td>\n",
       "    </tr>\n",
       "    <tr>\n",
       "      <th>4</th>\n",
       "      <td>Chile</td>\n",
       "      <td>2004</td>\n",
       "      <td>78.0</td>\n",
       "      <td>9.921039e+10</td>\n",
       "    </tr>\n",
       "  </tbody>\n",
       "</table>\n",
       "</div>"
      ],
      "text/plain": [
       "  Country  Year  Life expectancy at birth (years)           GDP\n",
       "0   Chile  2000                              77.3  7.786093e+10\n",
       "1   Chile  2001                              77.3  7.097992e+10\n",
       "2   Chile  2002                              77.8  6.973681e+10\n",
       "3   Chile  2003                              77.9  7.564346e+10\n",
       "4   Chile  2004                              78.0  9.921039e+10"
      ]
     },
     "execution_count": 2,
     "metadata": {},
     "output_type": "execute_result"
    }
   ],
   "source": [
    "df = pd.read_csv('all_data.csv')\n",
    "df.head()"
   ]
  },
  {
   "cell_type": "code",
   "execution_count": 3,
   "metadata": {},
   "outputs": [
    {
     "data": {
      "text/plain": [
       "(96, 4)"
      ]
     },
     "execution_count": 3,
     "metadata": {},
     "output_type": "execute_result"
    }
   ],
   "source": [
    "df.shape"
   ]
  },
  {
   "cell_type": "markdown",
   "metadata": {},
   "source": [
    "## Hypothesis Definition\n",
    "**Null Hypothesis ($H_0$)**\n",
    "> No difference. Things are happening as expected<br>\n",
    "> Care about population parameter (mean) == to something\n",
    "\n",
    "**Alternative Hypothesis ($H_a$)**\n",
    "> If there's evidence, there's something interesting going on here<br>\n",
    "> The average life expectancy is different in countries with higher GDP"
   ]
  },
  {
   "cell_type": "markdown",
   "metadata": {},
   "source": [
    "## Data Preparation"
   ]
  },
  {
   "cell_type": "code",
   "execution_count": 20,
   "metadata": {},
   "outputs": [
    {
     "name": "stdout",
     "output_type": "stream",
     "text": [
      "The dataset has 96 observations and 4 variables.\n",
      "\n",
      "----------------------------------------\n",
      "Checking if there are missing values:\n",
      "Country                             0\n",
      "Year                                0\n",
      "Life expectancy at birth (years)    0\n",
      "GDP                                 0\n",
      "dtype: int64\n",
      "----------------------------------------\n",
      "Examine data types in dataset:\n",
      "Country                              object\n",
      "Year                                  int64\n",
      "Life expectancy at birth (years)    float64\n",
      "GDP                                 float64\n",
      "dtype: object\n",
      "----------------------------------------\n",
      "The variables in the dataset are:\n",
      "Country\n",
      "Year\n",
      "Life expectancy at birth (years)\n",
      "GDP\n"
     ]
    }
   ],
   "source": [
    "# How many variables? How many observations?\n",
    "print(f'The dataset has {df.shape[0]} observations and {df.shape[1]} variables.\\n')\n",
    "print('-' * 40)\n",
    "\n",
    "# Missing data?\n",
    "print('Checking if there are missing values:')\n",
    "print(df.isnull().sum())\n",
    "print('-' * 40)\n",
    "\n",
    "# Types of variables?\n",
    "print('Examine data types in dataset:')\n",
    "print(df.dtypes) # Both categorical (Country and Year) and numerical (Life Exp and GDP)\n",
    "print('-' * 40)\n",
    "\n",
    "# What are the variables in the dataset?\n",
    "print(f'The variables in the dataset are:') \n",
    "for col in df.columns: print(col)"
   ]
  },
  {
   "cell_type": "markdown",
   "metadata": {},
   "source": [
    "The `Life expectancy at birth` column has a long name, and it will be difficult to type while doing analysis / visualisations. Let's change that name to a shorter string like `Life_exp`."
   ]
  },
  {
   "cell_type": "code",
   "execution_count": 25,
   "metadata": {},
   "outputs": [
    {
     "data": {
      "text/plain": [
       "Index(['Country', 'Year', 'Life_exp', 'GDP'], dtype='object')"
      ]
     },
     "execution_count": 25,
     "metadata": {},
     "output_type": "execute_result"
    }
   ],
   "source": [
    "df.rename(columns={'Life expectancy at birth (years)': 'Life_exp'}, inplace=True)\n",
    "df.columns"
   ]
  },
  {
   "cell_type": "code",
   "execution_count": 62,
   "metadata": {},
   "outputs": [
    {
     "name": "stdout",
     "output_type": "stream",
     "text": [
      "16\n",
      "[2000 2001 2002 2003 2004 2005 2006 2007 2008 2009 2010 2011 2012 2013\n",
      " 2014 2015]\n"
     ]
    }
   ],
   "source": [
    "# What's the year range in the dataset?\n",
    "print(df['Year'].nunique())  # There are 16 years in the dataset\n",
    "print(df['Year'].unique())  # From 2000 to 2015"
   ]
  },
  {
   "cell_type": "code",
   "execution_count": 70,
   "metadata": {},
   "outputs": [
    {
     "name": "stdout",
     "output_type": "stream",
     "text": [
      "6\n",
      "['Chile' 'China' 'Germany' 'Mexico' 'United States of America' 'Zimbabwe']\n"
     ]
    }
   ],
   "source": [
    "# How many countries are represented in the dataset?\n",
    "print(df['Country'].nunique())  # There are 6 countries\n",
    "print(df['Country'].unique())"
   ]
  },
  {
   "cell_type": "code",
   "execution_count": 96,
   "metadata": {},
   "outputs": [
    {
     "name": "stdout",
     "output_type": "stream",
     "text": [
      "The mean GDP of whole dataset is 3,880,498,570,768.40\n",
      "The lowest GDP value is 4,415,702,800.00\n",
      "The highest GDP value is 18,100,000,000,000.00\n",
      "\n"
     ]
    },
    {
     "data": {
      "text/html": [
       "<div>\n",
       "<style scoped>\n",
       "    .dataframe tbody tr th:only-of-type {\n",
       "        vertical-align: middle;\n",
       "    }\n",
       "\n",
       "    .dataframe tbody tr th {\n",
       "        vertical-align: top;\n",
       "    }\n",
       "\n",
       "    .dataframe thead th {\n",
       "        text-align: right;\n",
       "    }\n",
       "</style>\n",
       "<table border=\"1\" class=\"dataframe\">\n",
       "  <thead>\n",
       "    <tr style=\"text-align: right;\">\n",
       "      <th></th>\n",
       "      <th>Country</th>\n",
       "      <th>Year</th>\n",
       "      <th>Life_exp</th>\n",
       "      <th>GDP</th>\n",
       "    </tr>\n",
       "  </thead>\n",
       "  <tbody>\n",
       "    <tr>\n",
       "      <th>0</th>\n",
       "      <td>Chile</td>\n",
       "      <td>2000</td>\n",
       "      <td>77.30</td>\n",
       "      <td>77,860,932,152.00</td>\n",
       "    </tr>\n",
       "    <tr>\n",
       "      <th>1</th>\n",
       "      <td>Chile</td>\n",
       "      <td>2001</td>\n",
       "      <td>77.30</td>\n",
       "      <td>70,979,923,960.00</td>\n",
       "    </tr>\n",
       "    <tr>\n",
       "      <th>2</th>\n",
       "      <td>Chile</td>\n",
       "      <td>2002</td>\n",
       "      <td>77.80</td>\n",
       "      <td>69,736,811,435.00</td>\n",
       "    </tr>\n",
       "    <tr>\n",
       "      <th>3</th>\n",
       "      <td>Chile</td>\n",
       "      <td>2003</td>\n",
       "      <td>77.90</td>\n",
       "      <td>75,643,459,840.00</td>\n",
       "    </tr>\n",
       "    <tr>\n",
       "      <th>4</th>\n",
       "      <td>Chile</td>\n",
       "      <td>2004</td>\n",
       "      <td>78.00</td>\n",
       "      <td>99,210,392,858.00</td>\n",
       "    </tr>\n",
       "  </tbody>\n",
       "</table>\n",
       "</div>"
      ],
      "text/plain": [
       "  Country  Year  Life_exp               GDP\n",
       "0   Chile  2000     77.30 77,860,932,152.00\n",
       "1   Chile  2001     77.30 70,979,923,960.00\n",
       "2   Chile  2002     77.80 69,736,811,435.00\n",
       "3   Chile  2003     77.90 75,643,459,840.00\n",
       "4   Chile  2004     78.00 99,210,392,858.00"
      ]
     },
     "execution_count": 96,
     "metadata": {},
     "output_type": "execute_result"
    }
   ],
   "source": [
    "# Let's look at those GDP values\n",
    "# First extract the series into a numpy array\n",
    "gdp = np.array(df['GDP'])\n",
    "\n",
    "print(f'The mean GDP of whole dataset is {np.mean(gdp):,.2f}')\n",
    "print(f'The lowest GDP value is {np.min(gdp):,.2f}')\n",
    "print(f'The highest GDP value is {np.max(gdp):,.2f}\\n')\n",
    "\n",
    "# Those GDP values are difficult to read, so Pandas can be changed to display commas and round decimals to two places\n",
    "pd.options.display.float_format = '{:,.2f}'.format\n",
    "df.head()"
   ]
  },
  {
   "cell_type": "code",
   "execution_count": 124,
   "metadata": {},
   "outputs": [
    {
     "data": {
      "text/plain": [
       "<AxesSubplot:xlabel='Country', ylabel='GDP'>"
      ]
     },
     "execution_count": 124,
     "metadata": {},
     "output_type": "execute_result"
    },
    {
     "data": {
      "image/png": "[encoded data removed]",
      "text/plain": [
       "<Figure size 864x432 with 1 Axes>"
      ]
     },
     "metadata": {
      "image/png": {
       "height": 381,
       "width": 720
      },
      "needs_background": "light"
     },
     "output_type": "display_data"
    }
   ],
   "source": [
    "fig, ax = plt.subplots(figsize=(12, 6))\n",
    "sns.barplot(data=df, x='Country', y='GDP')"
   ]
  },
  {
   "cell_type": "markdown",
   "metadata": {},
   "source": [
    "## Univariate Analysis"
   ]
  },
  {
   "cell_type": "code",
   "execution_count": null,
   "metadata": {},
   "outputs": [],
   "source": []
  },
  {
   "cell_type": "code",
   "execution_count": null,
   "metadata": {},
   "outputs": [],
   "source": []
  },
  {
   "cell_type": "markdown",
   "metadata": {},
   "source": [
    "## Multivariate Analysis"
   ]
  },
  {
   "cell_type": "code",
   "execution_count": null,
   "metadata": {},
   "outputs": [],
   "source": []
  }
 ],
 "metadata": {
  "kernelspec": {
   "display_name": "Python 3",
   "language": "python",
   "name": "python3"
  },
  "language_info": {
   "codemirror_mode": {
    "name": "ipython",
    "version": 3
   },
   "file_extension": ".py",
   "mimetype": "text/x-python",
   "name": "python",
   "nbconvert_exporter": "python",
   "pygments_lexer": "ipython3",
   "version": "3.6.9"
  }
 },
 "nbformat": 4,
 "nbformat_minor": 4
}
